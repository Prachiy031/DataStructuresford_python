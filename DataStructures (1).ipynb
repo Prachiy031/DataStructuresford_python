{
 "cells": [
  {
   "cell_type": "markdown",
   "id": "05531fbd",
   "metadata": {},
   "source": [
    "# DATA STRUCTURES"
   ]
  },
  {
   "cell_type": "markdown",
   "id": "0c8aaaef",
   "metadata": {},
   "source": [
    "Boolean variables"
   ]
  },
  {
   "cell_type": "markdown",
   "id": "ac0bdf09",
   "metadata": {},
   "source": [
    "They are two constant objects true or false\n",
    "In numeric contexts(e.g. when used as argument to an arithematic operator) they behave like the integers 0 and 1 resp\n"
   ]
  },
  {
   "cell_type": "code",
   "execution_count": 1,
   "id": "5df20ece",
   "metadata": {},
   "outputs": [
    {
     "name": "stdout",
     "output_type": "stream",
     "text": [
      "True False\n"
     ]
    }
   ],
   "source": [
    "print(True,False)"
   ]
  },
  {
   "cell_type": "code",
   "execution_count": 2,
   "id": "7cc1bd86",
   "metadata": {},
   "outputs": [
    {
     "data": {
      "text/plain": [
       "bool"
      ]
     },
     "execution_count": 2,
     "metadata": {},
     "output_type": "execute_result"
    }
   ],
   "source": [
    "type(True)"
   ]
  },
  {
   "cell_type": "raw",
   "id": "a230c1a8",
   "metadata": {},
   "source": [
    "Strings "
   ]
  },
  {
   "cell_type": "code",
   "execution_count": 8,
   "id": "596fb764",
   "metadata": {},
   "outputs": [
    {
     "name": "stdout",
     "output_type": "stream",
     "text": [
      "False\n",
      "False\n",
      "False\n",
      "False\n",
      "False\n",
      "True\n",
      "False\n",
      "True\n",
      "True\n"
     ]
    }
   ],
   "source": [
    "#inbuilt functions in string\n",
    "str = \"data science and ml\"\n",
    "print(str.isalnum()) #check if all char are numbers\n",
    "print(str.isalpha()) #check if all char are alphanumeric\n",
    "print(str.isdigit()) #check if string contain digits\n",
    "print(str.istitle()) #check if string contain title words(as title word contain cpital 1st letter)\n",
    "print(str.isupper()) #check if all char are uppercase\n",
    "print(str.islower()) #check if all char are lowercase\n",
    "print(str.isspace()) #check if all char have space\n",
    "print(str.endswith('l')) #check if string ends with\n",
    "print(str.startswith('d')) "
   ]
  },
  {
   "cell_type": "markdown",
   "id": "14471202",
   "metadata": {},
   "source": [
    "Boolean and logical operators\n",
    "same as in other lang as and or not"
   ]
  },
  {
   "cell_type": "markdown",
   "id": "1b155c86",
   "metadata": {},
   "source": [
    "# List"
   ]
  },
  {
   "cell_type": "markdown",
   "id": "bf6032d6",
   "metadata": {},
   "source": [
    "mutable,changeable,ordered sequence of elements.Each element inside of list is called as item\n",
    "List is defined as values between Square bracket"
   ]
  },
  {
   "cell_type": "code",
   "execution_count": null,
   "id": "7fd85101",
   "metadata": {},
   "outputs": [],
   "source": [
    "Example=[]"
   ]
  },
  {
   "cell_type": "code",
   "execution_count": 23,
   "id": "be1b7430",
   "metadata": {},
   "outputs": [],
   "source": [
    "Example = ['ada',90]      #items can be of any datatype"
   ]
  },
  {
   "cell_type": "code",
   "execution_count": 24,
   "id": "94508ad5",
   "metadata": {},
   "outputs": [
    {
     "data": {
      "text/plain": [
       "['ada', 90]"
      ]
     },
     "execution_count": 24,
     "metadata": {},
     "output_type": "execute_result"
    }
   ],
   "source": [
    "Example"
   ]
  },
  {
   "cell_type": "code",
   "execution_count": 25,
   "id": "64e1d279",
   "metadata": {},
   "outputs": [],
   "source": [
    "L = list()   #list can be created using inbuilt function as list()"
   ]
  },
  {
   "cell_type": "code",
   "execution_count": 26,
   "id": "90b809d2",
   "metadata": {},
   "outputs": [],
   "source": [
    "L = ['y','u',78,90]"
   ]
  },
  {
   "cell_type": "code",
   "execution_count": 27,
   "id": "dc009a16",
   "metadata": {},
   "outputs": [
    {
     "data": {
      "text/plain": [
       "['y', 'u', 78, 90]"
      ]
     },
     "execution_count": 27,
     "metadata": {},
     "output_type": "execute_result"
    }
   ],
   "source": [
    "L"
   ]
  },
  {
   "cell_type": "code",
   "execution_count": 28,
   "id": "0b84a648",
   "metadata": {},
   "outputs": [
    {
     "data": {
      "text/plain": [
       "4"
      ]
     },
     "execution_count": 28,
     "metadata": {},
     "output_type": "execute_result"
    }
   ],
   "source": [
    "len(L)"
   ]
  },
  {
   "cell_type": "markdown",
   "id": "41be40ce",
   "metadata": {},
   "source": [
    "inbuilt function for list"
   ]
  },
  {
   "cell_type": "code",
   "execution_count": 29,
   "id": "900fff7c",
   "metadata": {},
   "outputs": [
    {
     "data": {
      "text/plain": [
       "['ada', 90, 'h']"
      ]
     },
     "execution_count": 29,
     "metadata": {},
     "output_type": "execute_result"
    }
   ],
   "source": [
    "#append is used to append elements at last of list\n",
    "Example.append(\"h\")\n",
    "Example"
   ]
  },
  {
   "cell_type": "code",
   "execution_count": 31,
   "id": "f470a5c6",
   "metadata": {},
   "outputs": [
    {
     "data": {
      "text/plain": [
       "'h'"
      ]
     },
     "execution_count": 31,
     "metadata": {},
     "output_type": "execute_result"
    }
   ],
   "source": [
    "#indexing is accessing element at given index\n",
    "Example[2]"
   ]
  },
  {
   "cell_type": "code",
   "execution_count": 32,
   "id": "96e00214",
   "metadata": {},
   "outputs": [
    {
     "data": {
      "text/plain": [
       "['ada', 90, 'h']"
      ]
     },
     "execution_count": 32,
     "metadata": {},
     "output_type": "execute_result"
    }
   ],
   "source": [
    "Example[:]   # : as all elements"
   ]
  },
  {
   "cell_type": "code",
   "execution_count": 34,
   "id": "ce5d9c4d",
   "metadata": {},
   "outputs": [
    {
     "data": {
      "text/plain": [
       "[90, 'h']"
      ]
     },
     "execution_count": 34,
     "metadata": {},
     "output_type": "execute_result"
    }
   ],
   "source": [
    "Example[1:]       #from 1 to end  can write range from where to where"
   ]
  },
  {
   "cell_type": "code",
   "execution_count": 35,
   "id": "52503ec4",
   "metadata": {},
   "outputs": [
    {
     "data": {
      "text/plain": [
       "['ada', 90, 'h', ['df', 9089]]"
      ]
     },
     "execution_count": 35,
     "metadata": {},
     "output_type": "execute_result"
    }
   ],
   "source": [
    "#nested list\n",
    "Example.append(['df',9089])\n",
    "Example"
   ]
  },
  {
   "cell_type": "code",
   "execution_count": 36,
   "id": "1d529d3c",
   "metadata": {},
   "outputs": [],
   "source": [
    "#insert in specific order\n",
    "Example.insert(1,'hye')      #index item to insert"
   ]
  },
  {
   "cell_type": "code",
   "execution_count": 37,
   "id": "1b435bec",
   "metadata": {},
   "outputs": [
    {
     "data": {
      "text/plain": [
       "['ada', 'hye', 90, 'h', ['df', 9089]]"
      ]
     },
     "execution_count": 37,
     "metadata": {},
     "output_type": "execute_result"
    }
   ],
   "source": [
    "Example"
   ]
  },
  {
   "cell_type": "code",
   "execution_count": 40,
   "id": "50e24095",
   "metadata": {},
   "outputs": [],
   "source": [
    "#using extend method\n",
    "L.extend([45,'gsza'])       #adding more than 1 item in list using extend dooesent create nested list like using append but it adds items directly"
   ]
  },
  {
   "cell_type": "code",
   "execution_count": 41,
   "id": "7939711a",
   "metadata": {},
   "outputs": [
    {
     "data": {
      "text/plain": [
       "['y', 'u', 78, 90, 45, 'gsza', 45, 'gsza']"
      ]
     },
     "execution_count": 41,
     "metadata": {},
     "output_type": "execute_result"
    }
   ],
   "source": [
    "L"
   ]
  },
  {
   "cell_type": "markdown",
   "id": "45469d75",
   "metadata": {},
   "source": [
    "various operation that can be done on list"
   ]
  },
  {
   "cell_type": "code",
   "execution_count": 42,
   "id": "bd975ceb",
   "metadata": {},
   "outputs": [
    {
     "data": {
      "text/plain": [
       "6"
      ]
     },
     "execution_count": 42,
     "metadata": {},
     "output_type": "execute_result"
    }
   ],
   "source": [
    "lst = [1,2,3]\n",
    "sum(lst)"
   ]
  },
  {
   "cell_type": "code",
   "execution_count": 43,
   "id": "41d9b16b",
   "metadata": {},
   "outputs": [
    {
     "data": {
      "text/plain": [
       "[1, 2]"
      ]
     },
     "execution_count": 43,
     "metadata": {},
     "output_type": "execute_result"
    }
   ],
   "source": [
    "lst.pop()\n",
    "lst"
   ]
  },
  {
   "cell_type": "markdown",
   "id": "f4c61740",
   "metadata": {},
   "source": [
    "count() calculates total occurence of given elem in list\n"
   ]
  },
  {
   "cell_type": "code",
   "execution_count": 44,
   "id": "d282b057",
   "metadata": {},
   "outputs": [
    {
     "data": {
      "text/plain": [
       "1"
      ]
     },
     "execution_count": 44,
     "metadata": {},
     "output_type": "execute_result"
    }
   ],
   "source": [
    "lst.count(1)"
   ]
  },
  {
   "cell_type": "code",
   "execution_count": 47,
   "id": "70c0f9f8",
   "metadata": {},
   "outputs": [
    {
     "data": {
      "text/plain": [
       "[1, 2, 34, 34, 2, 78, 9, 90, 90, 34, 34, 2, 78, 9, 90, 90]"
      ]
     },
     "execution_count": 47,
     "metadata": {},
     "output_type": "execute_result"
    }
   ],
   "source": [
    "lst.extend([34,34,2,78,9,90,90])\n",
    "lst"
   ]
  },
  {
   "cell_type": "code",
   "execution_count": 48,
   "id": "d6fc1882",
   "metadata": {},
   "outputs": [
    {
     "data": {
      "text/plain": [
       "4"
      ]
     },
     "execution_count": 48,
     "metadata": {},
     "output_type": "execute_result"
    }
   ],
   "source": [
    "lst.count(90)"
   ]
  },
  {
   "cell_type": "code",
   "execution_count": 52,
   "id": "a90e1e68",
   "metadata": {},
   "outputs": [
    {
     "data": {
      "text/plain": [
       "2"
      ]
     },
     "execution_count": 52,
     "metadata": {},
     "output_type": "execute_result"
    }
   ],
   "source": [
    "#index() returns index of first occurence. strt and end index arent necessary parameteres\n",
    "lst.index(34)"
   ]
  },
  {
   "cell_type": "code",
   "execution_count": 55,
   "id": "99b2d288",
   "metadata": {},
   "outputs": [
    {
     "data": {
      "text/plain": [
       "9"
      ]
     },
     "execution_count": 55,
     "metadata": {},
     "output_type": "execute_result"
    }
   ],
   "source": [
    "lst.index(34,8,12)       #item to find,from index,until what index"
   ]
  },
  {
   "cell_type": "code",
   "execution_count": 56,
   "id": "9bd4bccf",
   "metadata": {},
   "outputs": [
    {
     "data": {
      "text/plain": [
       "1"
      ]
     },
     "execution_count": 56,
     "metadata": {},
     "output_type": "execute_result"
    }
   ],
   "source": [
    "min(lst)"
   ]
  },
  {
   "cell_type": "code",
   "execution_count": 57,
   "id": "44a29dae",
   "metadata": {},
   "outputs": [
    {
     "data": {
      "text/plain": [
       "90"
      ]
     },
     "execution_count": 57,
     "metadata": {},
     "output_type": "execute_result"
    }
   ],
   "source": [
    "max(lst)"
   ]
  },
  {
   "cell_type": "code",
   "execution_count": 58,
   "id": "239e9226",
   "metadata": {},
   "outputs": [
    {
     "data": {
      "text/plain": [
       "[1,\n",
       " 2,\n",
       " 34,\n",
       " 34,\n",
       " 2,\n",
       " 78,\n",
       " 9,\n",
       " 90,\n",
       " 90,\n",
       " 34,\n",
       " 34,\n",
       " 2,\n",
       " 78,\n",
       " 9,\n",
       " 90,\n",
       " 90,\n",
       " 1,\n",
       " 2,\n",
       " 34,\n",
       " 34,\n",
       " 2,\n",
       " 78,\n",
       " 9,\n",
       " 90,\n",
       " 90,\n",
       " 34,\n",
       " 34,\n",
       " 2,\n",
       " 78,\n",
       " 9,\n",
       " 90,\n",
       " 90]"
      ]
     },
     "execution_count": 58,
     "metadata": {},
     "output_type": "execute_result"
    }
   ],
   "source": [
    "lst*2 #2 times whole list get appended"
   ]
  },
  {
   "cell_type": "markdown",
   "id": "9931c02c",
   "metadata": {},
   "source": [
    "# SET"
   ]
  },
  {
   "cell_type": "markdown",
   "id": "62c405d0",
   "metadata": {},
   "source": [
    "Set is an unordered collection of data type that is iterable,mutable,and has no duplicates elements.Python's set class represents the mathematical notion of set. This is known as ds Hash Table"
   ]
  },
  {
   "cell_type": "code",
   "execution_count": 35,
   "id": "cb5ab793",
   "metadata": {},
   "outputs": [
    {
     "data": {
      "text/plain": [
       "set"
      ]
     },
     "execution_count": 35,
     "metadata": {},
     "output_type": "execute_result"
    }
   ],
   "source": [
    "#defining an empty set\n",
    "set1  = set()\n",
    "type(set1)"
   ]
  },
  {
   "cell_type": "code",
   "execution_count": 36,
   "id": "6cb20c3b",
   "metadata": {},
   "outputs": [],
   "source": [
    "set1 = {\"Avengers\",\"IronMan\",\"spiderMan\",\"blackPanther\"}"
   ]
  },
  {
   "cell_type": "code",
   "execution_count": 37,
   "id": "54d4d85a",
   "metadata": {},
   "outputs": [
    {
     "data": {
      "text/plain": [
       "{'Avengers', 'IronMan', 'blackPanther', 'spiderMan'}"
      ]
     },
     "execution_count": 37,
     "metadata": {},
     "output_type": "execute_result"
    }
   ],
   "source": [
    "set1"
   ]
  },
  {
   "cell_type": "code",
   "execution_count": 104,
   "id": "64fdb4f7",
   "metadata": {},
   "outputs": [
    {
     "data": {
      "text/plain": [
       "{34, 56, 67, 89}"
      ]
     },
     "execution_count": 104,
     "metadata": {},
     "output_type": "execute_result"
    }
   ],
   "source": [
    "# whatever duplicates entered in set that will count only one time\n",
    "set2 ={34,67,89,34,56}\n",
    "set2"
   ]
  },
  {
   "cell_type": "code",
   "execution_count": 106,
   "id": "0f674a0a",
   "metadata": {},
   "outputs": [
    {
     "name": "stdout",
     "output_type": "stream",
     "text": [
      "{56, 89, 34, 67}\n",
      "{56, 89, 34, 67}\n",
      "{56, 89, 34, 67}\n",
      "{56, 89, 34, 67}\n"
     ]
    }
   ],
   "source": [
    "#indexing in set\n",
    "#set doesent support indexing\n",
    "#instead you can ask if specified value is present in set using for loop\n",
    "for i in set2:\n",
    "    print(set2)\n"
   ]
  },
  {
   "cell_type": "code",
   "execution_count": 40,
   "id": "09e816d0",
   "metadata": {},
   "outputs": [],
   "source": [
    "#inbuilt function for adding element if elem already present then it doesent add elem\n",
    "set1.add(\"hulk\")"
   ]
  },
  {
   "cell_type": "code",
   "execution_count": 41,
   "id": "0c3bcfe4",
   "metadata": {},
   "outputs": [
    {
     "data": {
      "text/plain": [
       "{'Avengers', 'IronMan', 'blackPanther', 'hulk', 'spiderMan'}"
      ]
     },
     "execution_count": 41,
     "metadata": {},
     "output_type": "execute_result"
    }
   ],
   "source": [
    "set1"
   ]
  },
  {
   "cell_type": "code",
   "execution_count": 42,
   "id": "03464703",
   "metadata": {},
   "outputs": [
    {
     "data": {
      "text/plain": [
       "{'Avengers', 'IronMan', 'blackPanther', 'hulk', 'hulk3', 'spiderMan'}"
      ]
     },
     "execution_count": 42,
     "metadata": {},
     "output_type": "execute_result"
    }
   ],
   "source": [
    "set3 = set1.copy()         #using copy() we can copy one set into other using shallow copy of the set \n",
    "set3.add(\"hulk3\")\n",
    "set3\n",
    "#. If we use “=” to copy a set to another set, when we modify in the copied set, the changes are also reflected in the original set."
   ]
  },
  {
   "cell_type": "code",
   "execution_count": 45,
   "id": "1949d0d7",
   "metadata": {},
   "outputs": [
    {
     "data": {
      "text/plain": [
       "{'hulk3'}"
      ]
     },
     "execution_count": 45,
     "metadata": {},
     "output_type": "execute_result"
    }
   ],
   "source": [
    "set3.difference(set1)  #Returns the new set with the unique elements that are not in the another set passed as a parameter."
   ]
  },
  {
   "cell_type": "code",
   "execution_count": 44,
   "id": "67ea3226",
   "metadata": {},
   "outputs": [
    {
     "data": {
      "text/plain": [
       "{'Avengers', 'IronMan', 'blackPanther', 'hulk', 'spiderMan'}"
      ]
     },
     "execution_count": 44,
     "metadata": {},
     "output_type": "execute_result"
    }
   ],
   "source": [
    "set1"
   ]
  },
  {
   "cell_type": "code",
   "execution_count": 49,
   "id": "bf9989af",
   "metadata": {},
   "outputs": [
    {
     "name": "stdout",
     "output_type": "stream",
     "text": [
      "None\n"
     ]
    }
   ],
   "source": [
    "#difference_update method is used to find difference between two sets and then \n",
    "#modify further in existing set instead to creating new set\n",
    "names = {\"p\",\"q\",\"r\",\"s\"}\n",
    "classes = {\"p\",\"l\",\"k\",\"s\"}\n",
    "result = names.difference_update(classes)\n",
    "print(result)\n"
   ]
  },
  {
   "cell_type": "code",
   "execution_count": 53,
   "id": "568efb3e",
   "metadata": {},
   "outputs": [
    {
     "data": {
      "text/plain": [
       "{'q', 'r'}"
      ]
     },
     "execution_count": 53,
     "metadata": {},
     "output_type": "execute_result"
    }
   ],
   "source": [
    "names    #only difference will be updatedset\n"
   ]
  },
  {
   "cell_type": "code",
   "execution_count": 54,
   "id": "7d3e73ac",
   "metadata": {},
   "outputs": [
    {
     "data": {
      "text/plain": [
       "{'k', 'l', 'p', 's'}"
      ]
     },
     "execution_count": 54,
     "metadata": {},
     "output_type": "execute_result"
    }
   ],
   "source": [
    "classes"
   ]
  },
  {
   "cell_type": "code",
   "execution_count": 56,
   "id": "e016e794",
   "metadata": {},
   "outputs": [],
   "source": [
    "subjects = {\"ds\",\"ai\",\"ml\",\"os\"}\n",
    "subj_for_un = {\"ds\",\"os\",\"st\"}\n"
   ]
  },
  {
   "cell_type": "code",
   "execution_count": 57,
   "id": "07ad3f38",
   "metadata": {},
   "outputs": [
    {
     "data": {
      "text/plain": [
       "{'ds', 'os'}"
      ]
     },
     "execution_count": 57,
     "metadata": {},
     "output_type": "execute_result"
    }
   ],
   "source": [
    "subjects.intersection(subj_for_un)     #common elements "
   ]
  },
  {
   "cell_type": "code",
   "execution_count": 60,
   "id": "6d74acc6",
   "metadata": {},
   "outputs": [
    {
     "data": {
      "text/plain": [
       "{'ds', 'os'}"
      ]
     },
     "execution_count": 60,
     "metadata": {},
     "output_type": "execute_result"
    }
   ],
   "source": [
    "subjects.intersection_update(subj_for_un)  #will update intersection elem like in diff_update\n",
    "subjects"
   ]
  },
  {
   "cell_type": "code",
   "execution_count": 61,
   "id": "1b5051ee",
   "metadata": {},
   "outputs": [],
   "source": [
    "set1.clear() #Removes all the elements from the set."
   ]
  },
  {
   "cell_type": "code",
   "execution_count": 62,
   "id": "75a88f0a",
   "metadata": {},
   "outputs": [
    {
     "data": {
      "text/plain": [
       "set()"
      ]
     },
     "execution_count": 62,
     "metadata": {},
     "output_type": "execute_result"
    }
   ],
   "source": [
    "set1"
   ]
  },
  {
   "cell_type": "code",
   "execution_count": 64,
   "id": "d8b55bdd",
   "metadata": {},
   "outputs": [],
   "source": [
    "set2.discard(34)#Removes a specific element from the set."
   ]
  },
  {
   "cell_type": "code",
   "execution_count": 65,
   "id": "0dec40fd",
   "metadata": {},
   "outputs": [
    {
     "data": {
      "text/plain": [
       "{56, 67, 89}"
      ]
     },
     "execution_count": 65,
     "metadata": {},
     "output_type": "execute_result"
    }
   ],
   "source": [
    "set2"
   ]
  },
  {
   "cell_type": "code",
   "execution_count": 66,
   "id": "511a9956",
   "metadata": {},
   "outputs": [
    {
     "data": {
      "text/plain": [
       "True"
      ]
     },
     "execution_count": 66,
     "metadata": {},
     "output_type": "execute_result"
    }
   ],
   "source": [
    "set1.isdisjoint(set2) #Returns true if the given sets have no common elements. Sets are disjoint if and only if their intersection is the empty set."
   ]
  },
  {
   "cell_type": "code",
   "execution_count": 70,
   "id": "159e6eeb",
   "metadata": {},
   "outputs": [
    {
     "data": {
      "text/plain": [
       "{'Avengers', 'blackPanther', 'hulk', 'hulk3', 'spiderMan'}"
      ]
     },
     "execution_count": 70,
     "metadata": {},
     "output_type": "execute_result"
    }
   ],
   "source": [
    "set3.pop()\n",
    "set3"
   ]
  },
  {
   "cell_type": "code",
   "execution_count": 71,
   "id": "6719378c",
   "metadata": {},
   "outputs": [],
   "source": [
    "set3.remove(\"blackPanther\")   #Removes the specified element from the set. If the specified element not found, raise an error."
   ]
  },
  {
   "cell_type": "code",
   "execution_count": 72,
   "id": "5c7285be",
   "metadata": {},
   "outputs": [
    {
     "data": {
      "text/plain": [
       "{'Avengers', 'hulk', 'hulk3', 'spiderMan'}"
      ]
     },
     "execution_count": 72,
     "metadata": {},
     "output_type": "execute_result"
    }
   ],
   "source": [
    "set3"
   ]
  },
  {
   "cell_type": "markdown",
   "id": "7e15d7bc",
   "metadata": {},
   "source": [
    "# Dictionaries"
   ]
  },
  {
   "cell_type": "markdown",
   "id": "6cc89c0c",
   "metadata": {},
   "source": [
    "it is unordered,changeable and indexed.They are written with curly brackets and have keys and values"
   ]
  },
  {
   "cell_type": "code",
   "execution_count": 91,
   "id": "1969667c",
   "metadata": {},
   "outputs": [],
   "source": [
    "dic = {}"
   ]
  },
  {
   "cell_type": "code",
   "execution_count": 92,
   "id": "0ba2ca2a",
   "metadata": {},
   "outputs": [
    {
     "data": {
      "text/plain": [
       "dict"
      ]
     },
     "execution_count": 92,
     "metadata": {},
     "output_type": "execute_result"
    }
   ],
   "source": [
    "type(dic)"
   ]
  },
  {
   "cell_type": "code",
   "execution_count": 93,
   "id": "b4799f43",
   "metadata": {},
   "outputs": [
    {
     "data": {
      "text/plain": [
       "{'prachi': 78, 'isha': 60, 'lila': 80}"
      ]
     },
     "execution_count": 93,
     "metadata": {},
     "output_type": "execute_result"
    }
   ],
   "source": [
    "#manual way of creating dict\n",
    "dictionary = {\"prachi\":78,\"isha\":60,\"lila\":80}\n",
    "dictionary"
   ]
  },
  {
   "cell_type": "code",
   "execution_count": 94,
   "id": "6bc40be3",
   "metadata": {},
   "outputs": [
    {
     "data": {
      "text/plain": [
       "78"
      ]
     },
     "execution_count": 94,
     "metadata": {},
     "output_type": "execute_result"
    }
   ],
   "source": [
    "#access elem using key\n",
    "dictionary[\"prachi\"]      "
   ]
  },
  {
   "cell_type": "code",
   "execution_count": 95,
   "id": "12f1d548",
   "metadata": {},
   "outputs": [
    {
     "name": "stdout",
     "output_type": "stream",
     "text": [
      "78\n",
      "60\n",
      "80\n"
     ]
    }
   ],
   "source": [
    "for x in dictionary.values(): #accessing values\n",
    "    print(x)"
   ]
  },
  {
   "cell_type": "code",
   "execution_count": 96,
   "id": "3cd9cd70",
   "metadata": {},
   "outputs": [
    {
     "name": "stdout",
     "output_type": "stream",
     "text": [
      "prachi\n",
      "isha\n",
      "lila\n"
     ]
    }
   ],
   "source": [
    "for x in dictionary:        #accessing keys\n",
    "    print(x)"
   ]
  },
  {
   "cell_type": "code",
   "execution_count": 97,
   "id": "afc7d70c",
   "metadata": {},
   "outputs": [
    {
     "name": "stdout",
     "output_type": "stream",
     "text": [
      "('prachi', 78)\n",
      "('isha', 60)\n",
      "('lila', 80)\n"
     ]
    }
   ],
   "source": [
    "for x in dictionary.items(): #accessing key and value\n",
    "    print(x)"
   ]
  },
  {
   "cell_type": "code",
   "execution_count": 98,
   "id": "64ac2e46",
   "metadata": {},
   "outputs": [
    {
     "data": {
      "text/plain": [
       "{'prachi': 78, 'isha': 60, 'lila': 80, 'priya': 79}"
      ]
     },
     "execution_count": 98,
     "metadata": {},
     "output_type": "execute_result"
    }
   ],
   "source": [
    "#adding elem\n",
    "dictionary['priya']=79\n",
    "dictionary"
   ]
  },
  {
   "cell_type": "code",
   "execution_count": 99,
   "id": "6c7843f0",
   "metadata": {},
   "outputs": [
    {
     "data": {
      "text/plain": [
       "{'prachi': 90, 'isha': 60, 'lila': 80, 'priya': 79}"
      ]
     },
     "execution_count": 99,
     "metadata": {},
     "output_type": "execute_result"
    }
   ],
   "source": [
    "#overwriting values if we update for smae key\n",
    "dictionary[\"prachi\"] = 90\n",
    "dictionary"
   ]
  },
  {
   "cell_type": "markdown",
   "id": "e42bf312",
   "metadata": {},
   "source": [
    "nested dictionary"
   ]
  },
  {
   "cell_type": "code",
   "execution_count": 100,
   "id": "55f95cd9",
   "metadata": {},
   "outputs": [],
   "source": [
    "dict1 = {'korea':'seol'}\n",
    "dict2 = {'india':'delhi'}\n",
    "dict3 = {'us':'ny'}"
   ]
  },
  {
   "cell_type": "code",
   "execution_count": 101,
   "id": "fcfc446e",
   "metadata": {},
   "outputs": [
    {
     "name": "stdout",
     "output_type": "stream",
     "text": [
      "{'c1': {'korea': 'seol'}, 'c2': {'india': 'delhi'}, 'c3': {'us': 'ny'}}\n"
     ]
    }
   ],
   "source": [
    "countries = {'c1':dict1,'c2':dict2,'c3':dict3}\n",
    "print(countries)"
   ]
  },
  {
   "cell_type": "code",
   "execution_count": 102,
   "id": "a6d1667f",
   "metadata": {},
   "outputs": [
    {
     "name": "stdout",
     "output_type": "stream",
     "text": [
      "seol\n"
     ]
    }
   ],
   "source": [
    "print(countries['c1']['korea']) #accessing elem in dictionary using indexinng"
   ]
  },
  {
   "cell_type": "markdown",
   "id": "04770275",
   "metadata": {},
   "source": [
    "# TUple\n"
   ]
  },
  {
   "cell_type": "markdown",
   "id": "370c7457",
   "metadata": {},
   "source": [
    "immutable, unchangeable written in round brackets"
   ]
  },
  {
   "cell_type": "code",
   "execution_count": 107,
   "id": "ec6862c1",
   "metadata": {},
   "outputs": [],
   "source": [
    "#defining tuple using inbuilt function tuple\n",
    "tuple1 = tuple()"
   ]
  },
  {
   "cell_type": "code",
   "execution_count": 108,
   "id": "4163ff29",
   "metadata": {},
   "outputs": [
    {
     "data": {
      "text/plain": [
       "tuple"
      ]
     },
     "execution_count": 108,
     "metadata": {},
     "output_type": "execute_result"
    }
   ],
   "source": [
    "type(tuple1)"
   ]
  },
  {
   "cell_type": "code",
   "execution_count": 109,
   "id": "6c71f4d8",
   "metadata": {},
   "outputs": [],
   "source": [
    "tuple1=(\"krish\",\"ankur\")"
   ]
  },
  {
   "cell_type": "code",
   "execution_count": 110,
   "id": "abe3e675",
   "metadata": {},
   "outputs": [],
   "source": [
    "#elements in tuple wont get replaced as it is immuatble and whole tuple will get replaced with new tuple\n"
   ]
  },
  {
   "cell_type": "code",
   "execution_count": 113,
   "id": "15e89eef",
   "metadata": {},
   "outputs": [
    {
     "data": {
      "text/plain": [
       "1"
      ]
     },
     "execution_count": 113,
     "metadata": {},
     "output_type": "execute_result"
    }
   ],
   "source": [
    "tuple1.count(\"krish\")"
   ]
  },
  {
   "cell_type": "code",
   "execution_count": 114,
   "id": "38efb5b6",
   "metadata": {},
   "outputs": [
    {
     "data": {
      "text/plain": [
       "1"
      ]
     },
     "execution_count": 114,
     "metadata": {},
     "output_type": "execute_result"
    }
   ],
   "source": [
    "tuple1.index(\"ankur\")"
   ]
  },
  {
   "cell_type": "markdown",
   "id": "46e8aaa4",
   "metadata": {},
   "source": [
    "Methods that cannot be used for tuples:\n",
    "\n",
    "append(), insert(), remove(), pop(), clear(), sort(), reverse()\n",
    "\n",
    "we generally use ‘tuples’ for heterogeneous (different) data types and ‘lists’ for homogeneous (similar) data types.\n",
    "\n",
    "\n",
    "\n",
    "Iterating through a ‘tuple’ is faster than in a ‘list’.\n",
    "\n",
    "\n",
    "'Lists’ are mutable whereas ‘tuples’ are immutable.\n",
    "\n",
    "\n",
    "Tuples that contain immutable elements can be used as a key for a dictionary.\n",
    "\n",
    "\n",
    "\n",
    "Lists can be stored in tuples.\n"
   ]
  },
  {
   "cell_type": "code",
   "execution_count": null,
   "id": "c189fe27",
   "metadata": {},
   "outputs": [],
   "source": []
  }
 ],
 "metadata": {
  "kernelspec": {
   "display_name": "Python 3 (ipykernel)",
   "language": "python",
   "name": "python3"
  },
  "language_info": {
   "codemirror_mode": {
    "name": "ipython",
    "version": 3
   },
   "file_extension": ".py",
   "mimetype": "text/x-python",
   "name": "python",
   "nbconvert_exporter": "python",
   "pygments_lexer": "ipython3",
   "version": "3.11.5"
  }
 },
 "nbformat": 4,
 "nbformat_minor": 5
}
